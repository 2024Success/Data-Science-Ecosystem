{
 "cells": [
  {
   "cell_type": "markdown",
   "metadata": {},
   "source": [
    "<center>\n",
    "    <img src=\"https://cf-courses-data.s3.us.cloud-object-storage.appdomain.cloud/IBMDeveloperSkillsNetwork-DS0105EN-SkillsNetwork/labs/Module2/images/SN_web_lightmode.png\" width=\"300\" alt=\"cognitiveclass.ai logo\">\n",
    "</center>\n"
   ]
  },
  {
   "cell_type": "markdown",
   "metadata": {},
   "source": [
    "#### Add your code below following the instructions given in the course\n"
   ]
  },
  {
   "cell_type": "markdown",
   "metadata": {},
   "source": [
    "## Exercise 1: Create a Jupyter Notebook"
   ]
  },
  {
   "cell_type": "markdown",
   "metadata": {},
   "source": [
    "### Exercise 1 = Done"
   ]
  },
  {
   "cell_type": "markdown",
   "metadata": {},
   "source": [
    "## Exercise 2: Create markdown cell with title of the notebook\n",
    "#### Create a markdown cell with the title \"Data Science Tools and Ecosystem\" using H1 style heading.\n",
    "\n",
    "#### Take a screenshot of the markdown cell and name it as \"2-title.png\""
   ]
  },
  {
   "cell_type": "markdown",
   "metadata": {},
   "source": [
    "# Data Science Tools and Ecosystem"
   ]
  },
  {
   "cell_type": "markdown",
   "metadata": {},
   "source": [
    "### Exercise 2 = Done"
   ]
  },
  {
   "cell_type": "markdown",
   "metadata": {},
   "source": [
    "## Exercise 3 - Create a markdown cell for an introduction\n",
    "\n",
    "#### Write an introductory sentence about the notebook such as the follows:\n",
    "\n",
    "#### In this notebook, Data Science Tools and Ecosystem are summarized.\n",
    "\n",
    "#### Take a screenshot of the markdown cell and name it as 3-intro.png"
   ]
  },
  {
   "cell_type": "markdown",
   "metadata": {},
   "source": [
    "## INTRODUCTION:\n",
    "\n",
    "#### In this notebook, <u>***Data Science Tools and Ecosystem***</u> are summarized.\n"
   ]
  },
  {
   "cell_type": "markdown",
   "metadata": {},
   "source": [
    "## -Exercise 10-\n",
    "\n",
    "## __Objectives:__ \n",
    "#### *(Some of the key takeaways from the course)*\n",
    "#### <u>List of popular languages for Data Science</u>\n",
    "* Python\n",
    "* R\n",
    "* SQL\n",
    "* C/C++\n",
    " #### <u>List of Data Science Librarie</u> \n",
    " - NumPY\n",
    " - ggplot2\n",
    " - Matplotlib\n",
    " - Plotly\n",
    " - pandas\n",
    " #### <u>List of Operations in Python Code</u> \n",
    " * Addition\n",
    " * Subtraction\n",
    " - Multiplication\n",
    " - Division"
   ]
  },
  {
   "cell_type": "markdown",
   "metadata": {},
   "source": [
    "### Exercise 3 = Done; Exercise 10 = Done"
   ]
  },
  {
   "cell_type": "markdown",
   "metadata": {},
   "source": [
    "## Exercise 4 - Create a markdown cell to list data science languages\n",
    "\n",
    "#### Start the cell with an overview line such as:\n",
    "\n",
    "#### Some of the popular languages that Data Scientists use are:\n",
    "#### Then create an ordered list (i.e. numbered) listing 3 (or more) commonly used languages for data science.\n",
    "\n",
    "#### Take a screenshot of the markdown cell and name it as 4-dslanguages.png"
   ]
  },
  {
   "cell_type": "markdown",
   "metadata": {},
   "source": [
    "### Some of the popular languages that Data Scientists use are:\n",
    "1. Python\n",
    "2. R\n",
    "3. SQL\n",
    "4. Julia\n",
    "5. MATLAB\n",
    "6. C/C++"
   ]
  },
  {
   "cell_type": "markdown",
   "metadata": {},
   "source": [
    "### Exercise 4 = Done"
   ]
  },
  {
   "cell_type": "markdown",
   "metadata": {},
   "source": [
    "## Exercise 5 - Create a markdown cell to list data science libraries\n",
    "\n",
    "#### Add an overview line to the cell like:\n",
    "\n",
    "#### Some of the commonly used libraries used by Data Scientists include:\n",
    "#### Below this line add an ordered list listing 3 (or more) commonly used libraries in data science.\n",
    "\n",
    "#### Take a screenshot of the markdown cell and name it as 5-dslibraries.png"
   ]
  },
  {
   "cell_type": "markdown",
   "metadata": {},
   "source": [
    "### list OF Data Science Libraries:\n",
    "* NumPY\n",
    "* pandas\n",
    "* Matplotlib\n",
    "* SciPy\n",
    "* Plotly\n",
    "* ggplot2\n",
    "* lattice\n",
    "* leaflet\n",
    "* caret\n",
    "* dplyr"
   ]
  },
  {
   "cell_type": "markdown",
   "metadata": {},
   "source": [
    "### Exercise 5 = Done"
   ]
  },
  {
   "cell_type": "markdown",
   "metadata": {},
   "source": [
    "## Exercise 6 - Create a markdown cell with a table of Data Science tools\n",
    "\n",
    "#### Create a single column table in this cell with the first row containing the header Data Science Tools. The subsequent three rows in the table should indicate three development environment open source tools used in data science.\n",
    "\n",
    "#### Take a screenshot of the markdown cell and name it as 6-dstools.png\n",
    "\n",
    "##### Hint: Refer to Lab: Using Markdowns in Jupyter Notebooks to create a table."
   ]
  },
  {
   "cell_type": "markdown",
   "metadata": {},
   "source": [
    "__________________\n",
    "------------------\n",
    "<center><h2> Data Science Tools</center> \n",
    "\n",
    "|1| Jupyter Notebook|\n",
    "|-|-----------------|\n",
    "|2| RStudio         |\n",
    "|3| Apache Hadoop   |\n"
   ]
  },
  {
   "cell_type": "markdown",
   "metadata": {
    "jp-MarkdownHeadingCollapsed": true
   },
   "source": [
    "### Exercise 6 = Done"
   ]
  },
  {
   "cell_type": "markdown",
   "metadata": {},
   "source": [
    "## Exercise 7 - Create a markdown cell introducing arithmetic expression examples\n",
    "\n",
    "#### Add a line in this cell with H3 style heading with text like:\n",
    "\n",
    "#### Below are a few examples of evaluating arithmetic expressions in Python.\n",
    "\n",
    "#### Take a screenshot of the markdown cell and name it as 7-introarithmetic.png"
   ]
  },
  {
   "cell_type": "markdown",
   "metadata": {},
   "source": [
    "### <center>Below are a few examples of evaluating arithmetic expressions in Python</center>\n",
    "<center>=======================================================</center>"
   ]
  },
  {
   "cell_type": "markdown",
   "metadata": {},
   "source": [
    "### Exercise 7 = Done"
   ]
  },
  {
   "cell_type": "markdown",
   "metadata": {},
   "source": [
    "## Exercise 8 - Create a code cell to multiply and add numbers\n",
    "\n",
    "#### In this code cell evaluate the expression (3*4)+5.\n",
    "#### Insert a comment line before the expression to explain the operation e.g.  This a simple arithmetic expression to mutiply then add integers.\n",
    "#### Then execute the cell to ensure the expression returns the expected output of 17.\n",
    "\n",
    "#### Take a screenshot of the code cell with output and name it as 8-multiplyandaddintegers.png"
   ]
  },
  {
   "cell_type": "code",
   "execution_count": 13,
   "metadata": {},
   "outputs": [
    {
     "name": "stdout",
     "output_type": "stream",
     "text": [
      "17\n"
     ]
    }
   ],
   "source": [
    "# This a simple arithmetic expression to mutiply then add integers\n",
    "x=(3*4)+5\n",
    "print(x)"
   ]
  },
  {
   "cell_type": "markdown",
   "metadata": {},
   "source": [
    "### Exercise 8 = Done"
   ]
  },
  {
   "cell_type": "markdown",
   "metadata": {},
   "source": [
    "## Exercise 9 - Create a code cell to convert minutes to hours\n",
    "\n",
    "#### In this code cell write an expression that converts 200 minutes into hours.\n",
    "#### Insert a comment line before the expression to explain the operation e.g.  This will convert 200 minutes to hours by diving by 60.\n",
    "#### Run the cell to evaluate the expression.\n",
    "\n",
    "#### Take a screenshot of the code cell with output and name it as 9-hourstominutes.png"
   ]
  },
  {
   "cell_type": "code",
   "execution_count": 14,
   "metadata": {},
   "outputs": [
    {
     "name": "stdout",
     "output_type": "stream",
     "text": [
      "200 minutes equal 3.3333333333333335 hours.\n"
     ]
    }
   ],
   "source": [
    "# This code will convert 200 minutes to hours by diving by 60.\n",
    "x = 200\n",
    "y = 60\n",
    "z = x / y\n",
    "print(x, \"minutes equal\", z, \"hours.\")"
   ]
  },
  {
   "cell_type": "markdown",
   "metadata": {},
   "source": [
    "### Exercise 9 = Done"
   ]
  },
  {
   "cell_type": "markdown",
   "metadata": {},
   "source": [
    "## Exercise 10 - Insert a markdown cell to list Objectives\n",
    "\n",
    "#### Below the introduction cell created in Exercise 3, insert a new markdown cell to list the objectives that this notebook covered (i.e. some of the key takeaways from the course). In this new cell start with an introductory line titled: Objectives: in bold font. Then using an unordered list (bullets) indicate 3 to 5 items covered in this notebook, such as List popular languages for Data Science.\n",
    "\n",
    "#### Take a screenshot of the markdown cell and name it as 10-objectives.png"
   ]
  },
  {
   "cell_type": "markdown",
   "metadata": {},
   "source": [
    "### Exercise 10 = Done"
   ]
  },
  {
   "cell_type": "markdown",
   "metadata": {},
   "source": [
    "## Exercise 11 - Create a markdown cell to indicate the Author's name\n",
    "\n",
    "#### In this markdown cell markdown cell include the following text Author in H2 style heading. Include your name as regular text below the word Author.\n",
    "\n",
    "#### Take a screenshot of the markdown cell and name it as 11-authordetails.png"
   ]
  },
  {
   "cell_type": "markdown",
   "metadata": {},
   "source": [
    "## Author:\n",
    "Caleb Chinaemezu Solomon-Nwaejike"
   ]
  },
  {
   "cell_type": "markdown",
   "metadata": {},
   "source": [
    "### Exercise 11 = Done"
   ]
  },
  {
   "cell_type": "code",
   "execution_count": null,
   "metadata": {},
   "outputs": [],
   "source": []
  }
 ],
 "metadata": {
  "kernelspec": {
   "display_name": "Python 3 (ipykernel)",
   "language": "python",
   "name": "python3"
  },
  "language_info": {
   "codemirror_mode": {
    "name": "ipython",
    "version": 3
   },
   "file_extension": ".py",
   "mimetype": "text/x-python",
   "name": "python",
   "nbconvert_exporter": "python",
   "pygments_lexer": "ipython3",
   "version": "3.11.9"
  }
 },
 "nbformat": 4,
 "nbformat_minor": 4
}
